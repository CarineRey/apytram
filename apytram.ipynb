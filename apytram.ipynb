{
 "cells": [
  {
   "cell_type": "code",
   "execution_count": 1,
   "metadata": {
    "collapsed": false
   },
   "outputs": [],
   "source": [
    "import os\n",
    "import sys\n",
    "import time\n",
    "import tempfile\n",
    "import logging\n",
    "import argparse\n",
    "from lib import ApytramNeeds\n",
    "from lib import BlastPlus\n",
    "from lib import Trinity\n",
    "\n",
    "\n",
    "start_time = time.time()"
   ]
  },
  {
   "cell_type": "code",
   "execution_count": 2,
   "metadata": {
    "collapsed": false
   },
   "outputs": [],
   "source": [
    "### Option parsing\n",
    "parser = argparse.ArgumentParser(prog = \"apytram.py\",\n",
    "                                 description='''\n",
    "    Run apytram on a fastq file to retrieve\n",
    "    homologous sequences of bait sequences.''')\n",
    "\n",
    "requiredOptions = parser.add_argument_group('required arguments')\n",
    "requiredOptions.add_argument('-d', '--database', nargs='?', type=str,\n",
    "                             help='Database preffix name', required=True)\n",
    "\n",
    "parser.add_argument('--version', action='version', version='%(prog)s 1.0')\n",
    "parser.add_argument('-log', nargs='?', type=str, default=\"apytram.log\")\n",
    "parser.add_argument('-t', '--tmp',  type=str,\n",
    "                    help = \"Directory to stock intermediary files for the apytram run. (default: a directory in /tmp which will be removed at the end)\",\n",
    "                    default = \"\" )\n",
    "\n",
    "\n",
    "parser.add_argument('-fa', '--fasta',  type=str)\n",
    "\n",
    "parser.add_argument('-q', '--query',  type=str,\n",
    "                    help = \"Fasta file (nt) with bait sequence for the apytram run.\" )\n",
    "parser.add_argument('-i', '--iteration_max',  type=int,\n",
    "                    help = \"Maximum number of iteration. (Default 5)\",\n",
    "                    default = 5 )\n",
    "parser.add_argument('-e', '--evalue',  type=float,\n",
    "                    help = \"Evalue. (Default 1e-3)\",\n",
    "                    default = 1e-3 )\n",
    "\n",
    "parser.add_argument('--threads',  type=int,\n",
    "                    help = \"Available threads. (Default 1)\",\n",
    "                    default = 1 )\n",
    "\n",
    "\n",
    "#args = parser.parse_args()\n",
    "args = parser.parse_args('-d example_exec/db/example -fa example/example_db.fasta -q example/ref_gene.fasta -t example_exec/tmp3 -i 5'.split())\n",
    "\n",
    "MaxIteration = args.iteration_max\n",
    "Threads = args.threads\n",
    "Evalue = args.evalue\n"
   ]
  },
  {
   "cell_type": "code",
   "execution_count": 3,
   "metadata": {
    "collapsed": true
   },
   "outputs": [],
   "source": [
    "### Set up the logger\n",
    "LogFile = args.log\n",
    "# create logger with 'spam_application'\n",
    "logger = logging.getLogger('apytram')\n",
    "logger.setLevel(logging.DEBUG)\n",
    "# create file handler which logs even debug messages\n",
    "fh = logging.FileHandler(LogFile)\n",
    "fh.setLevel(logging.DEBUG)\n",
    "# create console handler with a higher log level\n",
    "ch = logging.StreamHandler()\n",
    "ch.setLevel(logging.ERROR)\n",
    "# create formatter and add it to the handlers\n",
    "formatter = logging.Formatter('%(asctime)s - %(name)s - %(levelname)s - %(message)s')\n",
    "fh.setFormatter(formatter)\n",
    "ch.setFormatter(formatter)\n",
    "# add the handlers to the logger\n",
    "logger.addHandler(fh)\n",
    "logger.addHandler(ch)"
   ]
  },
  {
   "cell_type": "code",
   "execution_count": 4,
   "metadata": {
    "collapsed": false
   },
   "outputs": [
    {
     "name": "stderr",
     "output_type": "stream",
     "text": [
      "INFO:apytram:The temporary directory example_exec/tmp3 exists\n"
     ]
    }
   ],
   "source": [
    "### Set up the working directory\n",
    "if args.tmp:\n",
    "    if os.path.isdir(args.tmp):\n",
    "        logger.info(\"The temporary directory %s exists\" %(args.tmp) )\n",
    "    else:\n",
    "        logger.info(\"The temporary directory %s does not exist, it will be created\" % (args.tmp))\n",
    "        os.makedirs(args.tmp)\n",
    "    TmpDirName = args.tmp\n",
    "else:\n",
    "    TmpDirName = tempfile.mkdtemp()\n",
    "\n",
    "# Remove only empty directory\n",
    "#os.rmdir(TmpDirName)"
   ]
  },
  {
   "cell_type": "code",
   "execution_count": 5,
   "metadata": {
    "collapsed": false
   },
   "outputs": [
    {
     "name": "stderr",
     "output_type": "stream",
     "text": [
      "INFO:apytram:example_exec/db/example.nhr exists\n"
     ]
    }
   ],
   "source": [
    "### Check that there is a database else built it\n",
    "DatabaseName = args.database\n",
    "if not os.path.isfile(DatabaseName+\".nhr\"):\n",
    "    logger.info(DatabaseName+\".nhr does not exist\")\n",
    "    #Build blast formated database from a fasta file\n",
    "    if args.fasta:\n",
    "        InputFasta = args.fasta\n",
    "        if not os.path.isfile(InputFasta):\n",
    "            logger.error(\"The fasta file (-fa) does not exist.\")\n",
    "            sys.exit(1)\n",
    "        if os.path.isdir(os.path.dirname(DatabaseName)):\n",
    "            logger.info(\"Database directory exists\")\n",
    "        else:\n",
    "            logger.info(\"Database directory does not exist, we create it\")\n",
    "            os.makedirs(os.path.dirname(DatabaseName))\n",
    "        # database building\n",
    "        logger.info(DatabaseName + \" database building\")\n",
    "        MakeblastdbProcess = BlastPlus.Makeblastdb(InputFasta,DatabaseName)\n",
    "        ExitCode = MakeblastdbProcess.launch()\n",
    "    else :\n",
    "        logger.error(\"The database is not formatted ! A fasta file (-fa) is required !\")\n",
    "        sys.exit(1)\n",
    "if not os.path.isfile(DatabaseName+\".nhr\"):\n",
    "    logger.error(\"Problem in the database building\")\n",
    "    logger.info(DatabaseName+\".nhr does not exist\")\n",
    "    sys.exit(1)\n",
    "else:\n",
    "    logger.info(DatabaseName+\".nhr exists\")"
   ]
  },
  {
   "cell_type": "code",
   "execution_count": 6,
   "metadata": {
    "collapsed": false
   },
   "outputs": [
    {
     "name": "stdout",
     "output_type": "stream",
     "text": [
      "makeblastdb -in example/ref_gene.fasta -out example_exec/tmp3/example/ref_gene -dbtype nucl\n",
      "0"
     ]
    },
    {
     "name": "stderr",
     "output_type": "stream",
     "text": [
      "INFO:apytram:apytram will run with \"example_exec/db/example\" as reads database and \"example/ref_gene.fasta\" as bait sequences\n"
     ]
    },
    {
     "name": "stdout",
     "output_type": "stream",
     "text": [
      "\n"
     ]
    }
   ],
   "source": [
    "### If there is a query continue, else stop\n",
    "if not args.query:\n",
    "    logger.info(\"There is no query (-q), apytram have finished.\")\n",
    "    quit()\n",
    "elif not os.path.isfile(args.query):\n",
    "    logger.error(args.query+\" (-q) is not a file.\")\n",
    "    sys.exit(1)\n",
    "else:\n",
    "    queryFile = args.query\n",
    "    QueryDatabaseName = TmpDirName + \"/\" + queryFile.split(\".\")[0]\n",
    "    BlastdbcmdProcess = BlastPlus.Makeblastdb(queryFile,QueryDatabaseName)\n",
    "    command = BlastdbcmdProcess.launch()\n",
    "    print command\n",
    "    logger.info(\"apytram will run with \\\"%s\\\" as reads database and \\\"%s\\\" as bait sequences\" %(DatabaseName,queryFile))\n",
    "    "
   ]
  },
  {
   "cell_type": "code",
   "execution_count": 7,
   "metadata": {
    "collapsed": false
   },
   "outputs": [
    {
     "name": "stderr",
     "output_type": "stream",
     "text": [
      "INFO:apytram:Iterations begin\n",
      "INFO:apytram:Iteration 1/5\n",
      "INFO:apytram:Blast bait sequences on reads database\n"
     ]
    },
    {
     "name": "stdout",
     "output_type": "stream",
     "text": [
      "blastn -db example_exec/db/example -query /home/crey02/Documents/Projets/Convergences/Pipeline/apytram/example/ref_gene.fasta -evalue 0.001 -outfmt 6 sacc -out /home/crey02/Documents/Projets/Convergences/Pipeline/apytram/example_exec/tmp3/ReadNames.1.txt -perc_identity 20 -max_target_seqs 1000000000 -num_threads 1\n",
      "blastn -db example_exec/db/example -query /home/crey02/Documents/Projets/Convergences/Pipeline/apytram/example/ref_gene.fasta -evalue 0.001 -outfmt 6 -out /home/crey02/Documents/Projets/Convergences/Pipeline/apytram/example_exec/tmp3/ReadNames.1.txt.completetable -perc_identity 20 -max_target_seqs 1000000000 -num_threads 1\n",
      "0"
     ]
    },
    {
     "name": "stderr",
     "output_type": "stream",
     "text": [
      "INFO:apytram:Retrieve sequences\n",
      "INFO:apytram:Launch Trinity\n"
     ]
    },
    {
     "name": "stdout",
     "output_type": "stream",
     "text": [
      "\n",
      "blastdbcmd -db example_exec/db/example -entry_batch example_exec/tmp3/ReadNames.1.txt -dbtype nucl -out example_exec/tmp3/Reads.1.fasta\n",
      "0"
     ]
    },
    {
     "name": "stderr",
     "output_type": "stream",
     "text": [
      "INFO:apytram:Compare Trinity results with query sequences\n",
      "INFO:apytram:Iteration 2/5\n",
      "INFO:apytram:Blast bait sequences on reads database\n"
     ]
    },
    {
     "name": "stdout",
     "output_type": "stream",
     "text": [
      "\n",
      "blastn -db example_exec/tmp3/example/ref_gene -query /home/crey02/Documents/Projets/Convergences/Pipeline/apytram/example_exec/tmp3/Trinity_iter_1.Trinity.fasta -evalue 1e-08 -outfmt 6 -out /home/crey02/Documents/Projets/Convergences/Pipeline/apytram/example_exec/tmp3/Trinity_iter_1.blast -perc_identity 80 -max_target_seqs 1000000000 -num_threads 1\n",
      "blastn -db example_exec/db/example -query /home/crey02/Documents/Projets/Convergences/Pipeline/apytram/example_exec/tmp3/Trinity_iter_1.Trinity.fasta -evalue 0.001 -outfmt 6 sacc -out /home/crey02/Documents/Projets/Convergences/Pipeline/apytram/example_exec/tmp3/ReadNames.2.txt -perc_identity 20 -max_target_seqs 1000000000 -num_threads 1\n",
      "blastn -db example_exec/db/example -query /home/crey02/Documents/Projets/Convergences/Pipeline/apytram/example_exec/tmp3/Trinity_iter_1.Trinity.fasta -evalue 0.001 -outfmt 6 -out /home/crey02/Documents/Projets/Convergences/Pipeline/apytram/example_exec/tmp3/ReadNames.2.txt.completetable -perc_identity 20 -max_target_seqs 1000000000 -num_threads 1\n",
      "0"
     ]
    },
    {
     "name": "stderr",
     "output_type": "stream",
     "text": [
      "INFO:apytram:Retrieve sequences\n",
      "INFO:apytram:Launch Trinity\n"
     ]
    },
    {
     "name": "stdout",
     "output_type": "stream",
     "text": [
      "\n",
      "blastdbcmd -db example_exec/db/example -entry_batch example_exec/tmp3/ReadNames.2.txt -dbtype nucl -out example_exec/tmp3/Reads.2.fasta\n",
      "0"
     ]
    },
    {
     "name": "stderr",
     "output_type": "stream",
     "text": [
      "INFO:apytram:Compare Trinity results with query sequences\n",
      "INFO:apytram:Iteration 3/5\n",
      "INFO:apytram:Blast bait sequences on reads database\n"
     ]
    },
    {
     "name": "stdout",
     "output_type": "stream",
     "text": [
      "\n",
      "blastn -db example_exec/tmp3/example/ref_gene -query /home/crey02/Documents/Projets/Convergences/Pipeline/apytram/example_exec/tmp3/Trinity_iter_2.Trinity.fasta -evalue 1e-08 -outfmt 6 -out /home/crey02/Documents/Projets/Convergences/Pipeline/apytram/example_exec/tmp3/Trinity_iter_2.blast -perc_identity 80 -max_target_seqs 1000000000 -num_threads 1\n",
      "blastn -db example_exec/db/example -query /home/crey02/Documents/Projets/Convergences/Pipeline/apytram/example_exec/tmp3/Trinity_iter_2.Trinity.fasta -evalue 0.001 -outfmt 6 sacc -out /home/crey02/Documents/Projets/Convergences/Pipeline/apytram/example_exec/tmp3/ReadNames.3.txt -perc_identity 20 -max_target_seqs 1000000000 -num_threads 1\n",
      "blastn -db example_exec/db/example -query /home/crey02/Documents/Projets/Convergences/Pipeline/apytram/example_exec/tmp3/Trinity_iter_2.Trinity.fasta -evalue 0.001 -outfmt 6 -out /home/crey02/Documents/Projets/Convergences/Pipeline/apytram/example_exec/tmp3/ReadNames.3.txt.completetable -perc_identity 20 -max_target_seqs 1000000000 -num_threads 1\n",
      "0"
     ]
    },
    {
     "name": "stderr",
     "output_type": "stream",
     "text": [
      "INFO:apytram:Retrieve sequences\n",
      "INFO:apytram:Launch Trinity\n"
     ]
    },
    {
     "name": "stdout",
     "output_type": "stream",
     "text": [
      "\n",
      "blastdbcmd -db example_exec/db/example -entry_batch example_exec/tmp3/ReadNames.3.txt -dbtype nucl -out example_exec/tmp3/Reads.3.fasta\n",
      "0"
     ]
    },
    {
     "name": "stderr",
     "output_type": "stream",
     "text": [
      "INFO:apytram:Compare Trinity results with query sequences\n",
      "INFO:apytram:Iteration 4/5\n",
      "INFO:apytram:Blast bait sequences on reads database\n"
     ]
    },
    {
     "name": "stdout",
     "output_type": "stream",
     "text": [
      "\n",
      "blastn -db example_exec/tmp3/example/ref_gene -query /home/crey02/Documents/Projets/Convergences/Pipeline/apytram/example_exec/tmp3/Trinity_iter_3.Trinity.fasta -evalue 1e-08 -outfmt 6 -out /home/crey02/Documents/Projets/Convergences/Pipeline/apytram/example_exec/tmp3/Trinity_iter_3.blast -perc_identity 80 -max_target_seqs 1000000000 -num_threads 1\n",
      "blastn -db example_exec/db/example -query /home/crey02/Documents/Projets/Convergences/Pipeline/apytram/example_exec/tmp3/Trinity_iter_3.Trinity.fasta -evalue 0.001 -outfmt 6 sacc -out /home/crey02/Documents/Projets/Convergences/Pipeline/apytram/example_exec/tmp3/ReadNames.4.txt -perc_identity 20 -max_target_seqs 1000000000 -num_threads 1\n",
      "blastn -db example_exec/db/example -query /home/crey02/Documents/Projets/Convergences/Pipeline/apytram/example_exec/tmp3/Trinity_iter_3.Trinity.fasta -evalue 0.001 -outfmt 6 -out /home/crey02/Documents/Projets/Convergences/Pipeline/apytram/example_exec/tmp3/ReadNames.4.txt.completetable -perc_identity 20 -max_target_seqs 1000000000 -num_threads 1\n",
      "0"
     ]
    },
    {
     "name": "stderr",
     "output_type": "stream",
     "text": [
      "INFO:apytram:Retrieve sequences\n",
      "INFO:apytram:Launch Trinity\n"
     ]
    },
    {
     "name": "stdout",
     "output_type": "stream",
     "text": [
      "\n",
      "blastdbcmd -db example_exec/db/example -entry_batch example_exec/tmp3/ReadNames.4.txt -dbtype nucl -out example_exec/tmp3/Reads.4.fasta\n",
      "0"
     ]
    },
    {
     "name": "stderr",
     "output_type": "stream",
     "text": [
      "INFO:apytram:Compare Trinity results with query sequences\n",
      "INFO:apytram:Iteration 5/5\n",
      "INFO:apytram:Blast bait sequences on reads database\n"
     ]
    },
    {
     "name": "stdout",
     "output_type": "stream",
     "text": [
      "\n",
      "blastn -db example_exec/tmp3/example/ref_gene -query /home/crey02/Documents/Projets/Convergences/Pipeline/apytram/example_exec/tmp3/Trinity_iter_4.Trinity.fasta -evalue 1e-08 -outfmt 6 -out /home/crey02/Documents/Projets/Convergences/Pipeline/apytram/example_exec/tmp3/Trinity_iter_4.blast -perc_identity 80 -max_target_seqs 1000000000 -num_threads 1\n",
      "blastn -db example_exec/db/example -query /home/crey02/Documents/Projets/Convergences/Pipeline/apytram/example_exec/tmp3/Trinity_iter_4.Trinity.fasta -evalue 0.001 -outfmt 6 sacc -out /home/crey02/Documents/Projets/Convergences/Pipeline/apytram/example_exec/tmp3/ReadNames.5.txt -perc_identity 20 -max_target_seqs 1000000000 -num_threads 1\n",
      "blastn -db example_exec/db/example -query /home/crey02/Documents/Projets/Convergences/Pipeline/apytram/example_exec/tmp3/Trinity_iter_4.Trinity.fasta -evalue 0.001 -outfmt 6 -out /home/crey02/Documents/Projets/Convergences/Pipeline/apytram/example_exec/tmp3/ReadNames.5.txt.completetable -perc_identity 20 -max_target_seqs 1000000000 -num_threads 1\n",
      "0"
     ]
    },
    {
     "name": "stderr",
     "output_type": "stream",
     "text": [
      "INFO:apytram:Retrieve sequences\n",
      "INFO:apytram:Launch Trinity\n"
     ]
    },
    {
     "name": "stdout",
     "output_type": "stream",
     "text": [
      "\n",
      "blastdbcmd -db example_exec/db/example -entry_batch example_exec/tmp3/ReadNames.5.txt -dbtype nucl -out example_exec/tmp3/Reads.5.fasta\n",
      "0"
     ]
    },
    {
     "name": "stderr",
     "output_type": "stream",
     "text": [
      "INFO:apytram:Compare Trinity results with query sequences\n",
      "INFO:apytram:End of Iterations\n"
     ]
    },
    {
     "name": "stdout",
     "output_type": "stream",
     "text": [
      "\n",
      "blastn -db example_exec/tmp3/example/ref_gene -query /home/crey02/Documents/Projets/Convergences/Pipeline/apytram/example_exec/tmp3/Trinity_iter_5.Trinity.fasta -evalue 1e-08 -outfmt 6 -out /home/crey02/Documents/Projets/Convergences/Pipeline/apytram/example_exec/tmp3/Trinity_iter_5.blast -perc_identity 80 -max_target_seqs 1000000000 -num_threads 1\n"
     ]
    }
   ],
   "source": [
    "### Make iterations\n",
    "# Initialisation\n",
    "i = 0\n",
    "Stop = False\n",
    "BaitSequences = queryFile\n",
    "\n",
    "logger.info(\"Iterations begin\")\n",
    "while (i < MaxIteration) and (Stop == False):\n",
    "    i+=1\n",
    "    logger.info(\"Iteration %d/%d\" %(i,MaxIteration))\n",
    "    # Blast bait seqeunce on database of reads\n",
    "    logger.info(\"Blast bait sequences on reads database\")\n",
    "    ReadNamesFile = TmpDirName + \"/ReadNames.%d.txt\" % (i)\n",
    "    BlastnProcess = BlastPlus.Blast(\"blastn\", DatabaseName, BaitSequences)\n",
    "    BlastnProcess.Evalue = Evalue\n",
    "    BlastnProcess.Threads = Threads\n",
    "    BlastnProcess.OutFormat = \"6 sacc\"\n",
    "    # Write read names in ReadNamesFile\n",
    "    ExitCode = BlastnProcess.launch(ReadNamesFile)\n",
    "    BlastnProcess.OutFormat = \"6\"\n",
    "    ExitCode = BlastnProcess.launch(ReadNamesFile+\".completetable\")\n",
    "    # Get paired reads names\n",
    "    ExitCode = ApytramNeeds.add_paired_read_names(ReadNamesFile)\n",
    "    # Retrieve sequences\n",
    "    logger.info(\"Retrieve sequences\")\n",
    "    ReadFasta = TmpDirName + \"/Reads.%d.fasta\" % (i)\n",
    "    BlastdbcmdProcess = BlastPlus.Blastdbcmd(DatabaseName, ReadNamesFile, ReadFasta)\n",
    "    BlastdbcmdProcess.launch()\n",
    "    # Launch Trinity\n",
    "    logger.info(\"Launch Trinity\")\n",
    "    TrinityFasta = TmpDirName + \"/Trinity_iter_%d\" % (i)\n",
    "    TrinityProcess = Trinity.Trinity(ReadFasta,TrinityFasta)\n",
    "    # Use the  --full_cleanup Trinity option to keep only the contig file\n",
    "    exitCode = TrinityProcess.launch(\"full_cleanup\")\n",
    "    if exitCode != 0: # Trinity found nothing\n",
    "        logger.info(\"Trinity found nothing (ExitCode: %d)\" %exitCode)\n",
    "        Stop = True\n",
    "    else:\n",
    "        # Filter Trinity contigs to keep only homologous sequences of the reference genes\n",
    "        logger.info(\"Compare Trinity results with query sequences\")\n",
    "        TrinityFasta = TrinityFasta + \".Trinity.fasta\"\n",
    "        TrinityBlast = TmpDirName + \"/Trinity_iter_%d.blast\" % (i)\n",
    "        BlastnProcess = BlastPlus.Blast(\"blastn\", QueryDatabaseName, TrinityFasta)\n",
    "        BlastnProcess.OutFormat = \"6\"\n",
    "        BlastnProcess.Evalue = 1e-8\n",
    "        BlastnProcess.perc_identity = 80\n",
    "        BlastnProcess.launch(TrinityBlast)\n",
    "        # Filter hit\n",
    "        FileteredTrinityFasta = TrinityFasta\n",
    "        # Validated sequences become bait sequences\n",
    "        BaitSequences = FileteredTrinityFasta\n",
    "    \n",
    "# Write output\n",
    "logger.info(\"End of Iterations\")\n",
    "\n",
    "\n",
    "\n",
    "\n"
   ]
  },
  {
   "cell_type": "code",
   "execution_count": 8,
   "metadata": {
    "collapsed": false
   },
   "outputs": [
    {
     "name": "stdout",
     "output_type": "stream",
     "text": [
      "--- 53.1535749435 seconds ---\n"
     ]
    }
   ],
   "source": [
    "print(\"--- %s seconds ---\" % (time.time() - start_time))"
   ]
  },
  {
   "cell_type": "code",
   "execution_count": 9,
   "metadata": {
    "collapsed": false
   },
   "outputs": [
    {
     "data": {
      "text/plain": [
       "['apytram.ipynb', 'apytram.log', 'data_test', 'example', 'example_exec', 'lib']"
      ]
     },
     "execution_count": 9,
     "metadata": {},
     "output_type": "execute_result"
    }
   ],
   "source": [
    "system(\"ls\")"
   ]
  }
 ],
 "metadata": {
  "kernelspec": {
   "display_name": "Python 2",
   "language": "python",
   "name": "python2"
  },
  "language_info": {
   "codemirror_mode": {
    "name": "ipython",
    "version": 2
   },
   "file_extension": ".py",
   "mimetype": "text/x-python",
   "name": "python",
   "nbconvert_exporter": "python",
   "pygments_lexer": "ipython2",
   "version": "2.7.6"
  }
 },
 "nbformat": 4,
 "nbformat_minor": 0
}
