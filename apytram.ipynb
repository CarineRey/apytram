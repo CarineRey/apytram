{
 "cells": [
  {
   "cell_type": "code",
   "execution_count": 1,
   "metadata": {
    "collapsed": false
   },
   "outputs": [],
   "source": [
    "import os\n",
    "import sys\n",
    "import time\n",
    "import tempfile\n",
    "import logging\n",
    "import argparse\n",
    "import subprocess\n",
    "from lib import ApytramNeeds\n",
    "from lib import BlastPlus\n",
    "from lib import Trinity\n",
    "from lib import Aligner\n",
    "\n",
    "\n",
    "start_time = time.time()"
   ]
  },
  {
   "cell_type": "code",
   "execution_count": 2,
   "metadata": {
    "collapsed": false
   },
   "outputs": [],
   "source": [
    "### Option parsing\n",
    "parser = argparse.ArgumentParser(prog = \"apytram.py\",\n",
    "                                 description='''\n",
    "    Run apytram on a fastq file to retrieve\n",
    "    homologous sequences of bait sequences.''')\n",
    "\n",
    "requiredOptions = parser.add_argument_group('required arguments')\n",
    "requiredOptions.add_argument('-d', '--database', nargs='?', type=str,\n",
    "                             help='Database preffix name', required=True)\n",
    "\n",
    "parser.add_argument('--version', action='version', version='%(prog)s 1.0')\n",
    "parser.add_argument('-log', nargs='?', type=str, default=\"apytram.log\")\n",
    "parser.add_argument('-t', '--tmp',  type=str,\n",
    "                    help = \"Directory to stock intermediary files for the apytram run. (default: a directory in /tmp which will be removed at the end)\",\n",
    "                    default = \"\" )\n",
    "parser.add_argument('--threads',  type=int,\n",
    "                    help = \"Available threads. (Default 1)\",\n",
    "                    default = 1 )\n",
    "\n",
    "\n",
    "\n",
    "parser.add_argument('-fa', '--fasta',  type=str,\n",
    "                   help = \"Fasta formatted RNA-seq data to build the database of reads\")\n",
    "parser.add_argument('-fq', '--fastq',  type=str,\n",
    "                   help = \"Fastq formatted RNA-seq data to build the database of reads\")\n",
    "parser.add_argument('-out', '--output',  type=str, default = \"./\")\n",
    "\n",
    "\n",
    "parser.add_argument('-q', '--query',  type=str,\n",
    "                    help = \"Fasta file (nt) with bait sequence for the apytram run.\" )\n",
    "parser.add_argument('-i', '--iteration_max',  type=int,\n",
    "                    help = \"Maximum number of iteration. (Default 5)\",\n",
    "                    default = 5 )\n",
    "parser.add_argument('-e', '--evalue',  type=float,\n",
    "                    help = \"Evalue. (Default 1e-3)\",\n",
    "                    default = 1e-3 )\n",
    "\n",
    "parser.add_argument('-id', '--min_id',  type=int,\n",
    "                    help = \"Minimum identity percentage with a query to keep a sequence  (Default 0)\",\n",
    "                    default = 0 )\n",
    "parser.add_argument('-l', '--min_len',  type=int,\n",
    "                    help = \"Minimum length to keep a sequence  (Default 200)\",\n",
    "                    default = 200 )\n",
    "\n",
    "\n",
    "\n",
    "\n",
    "\n",
    "#args = parser.parse_args()\n",
    "args = parser.parse_args(''' -d example_exec/db/examplefq -out Out_test -fq example/example_db.fastq\n",
    "                             -q example/ref_gene.fasta -t example_exec/tmp\n",
    "                             -l 200\n",
    "                             -i 10'''.split())\n",
    "\n",
    "# Arguments reading\n",
    "MaxIteration = args.iteration_max\n",
    "Threads = args.threads\n",
    "Evalue = args.evalue\n",
    "MinIdentityPercentage = args.min_id\n",
    "MinLength = args.min_len"
   ]
  },
  {
   "cell_type": "code",
   "execution_count": 3,
   "metadata": {
    "collapsed": true
   },
   "outputs": [],
   "source": [
    "### Set up the logger\n",
    "LogFile = args.log\n",
    "# create logger with 'spam_application'\n",
    "logger = logging.getLogger('apytram')\n",
    "logger.setLevel(logging.DEBUG)\n",
    "# create file handler which logs even debug messages\n",
    "fh = logging.FileHandler(LogFile)\n",
    "fh.setLevel(logging.DEBUG)\n",
    "# create console handler with a higher log level\n",
    "ch = logging.StreamHandler()\n",
    "ch.setLevel(logging.ERROR)\n",
    "# create formatter and add it to the handlers\n",
    "formatter = logging.Formatter('%(asctime)s - %(name)s - %(levelname)s - %(message)s')\n",
    "fh.setFormatter(formatter)\n",
    "ch.setFormatter(formatter)\n",
    "# add the handlers to the logger\n",
    "logger.addHandler(fh)\n",
    "logger.addHandler(ch)"
   ]
  },
  {
   "cell_type": "code",
   "execution_count": 4,
   "metadata": {
    "collapsed": false
   },
   "outputs": [
    {
     "name": "stderr",
     "output_type": "stream",
     "text": [
      "INFO:apytram:The temporary directory example_exec/tmp exists\n"
     ]
    }
   ],
   "source": [
    "### Set up the working directory\n",
    "if args.tmp:\n",
    "    if os.path.isdir(args.tmp):\n",
    "        logger.info(\"The temporary directory %s exists\" %(args.tmp) )\n",
    "    else:\n",
    "        logger.info(\"The temporary directory %s does not exist, it will be created\" % (args.tmp))\n",
    "        os.makedirs(args.tmp)\n",
    "    TmpDirName = args.tmp\n",
    "else:\n",
    "    TmpDirName = tempfile.mkdtemp()\n",
    "\n",
    "# Remove only empty directory\n",
    "#os.rmdir(TmpDirName)"
   ]
  },
  {
   "cell_type": "code",
   "execution_count": 5,
   "metadata": {
    "collapsed": false
   },
   "outputs": [
    {
     "name": "stderr",
     "output_type": "stream",
     "text": [
      "INFO:apytram:The output directory Out_test exists\n"
     ]
    }
   ],
   "source": [
    "### Set up the output directory\n",
    "if args.output:\n",
    "    if os.path.isdir(args.output):\n",
    "        logger.info(\"The output directory %s exists\" %(args.output) )\n",
    "    else:\n",
    "        logger.info(\"The temporary directory %s does not exist, it will be created\" % (args.output))\n",
    "        os.makedirs(args.output)\n",
    "    OutDirName = args.output\n",
    "else:\n",
    "    logger.error(\"The output directory must be defined\")\n",
    "    sys.exit(1)"
   ]
  },
  {
   "cell_type": "code",
   "execution_count": 6,
   "metadata": {
    "collapsed": false
   },
   "outputs": [
    {
     "name": "stderr",
     "output_type": "stream",
     "text": [
      "INFO:apytram:example_exec/db/examplefq.nhr exists\n"
     ]
    }
   ],
   "source": [
    "### Check that there is a database else built it\n",
    "DatabaseName = args.database\n",
    "if not os.path.isfile(DatabaseName+\".nhr\"):\n",
    "    logger.info(DatabaseName+\".nhr does not exist\")\n",
    "    #Build blast formated database from a fasta file\n",
    "    if args.fastq or args.fasta:\n",
    "        if args.fastq:\n",
    "            if not os.path.isfile(args.fastq):\n",
    "                logger.error(\"The fastq file (-fq) does not exist.\")\n",
    "                sys.exit(1)\n",
    "            else:\n",
    "                # Format the fastq file in fasta\n",
    "                InputFasta = TmpDirName + \"/\" + os.path.basename(args.fastq) + \".fasta\"\n",
    "                ExitCode = ApytramNeeds.fastq2fasta(args.fastq,InputFasta)\n",
    "        elif args.fasta:\n",
    "            InputFasta = args.fasta\n",
    "            \n",
    "        if not os.path.isfile(InputFasta):\n",
    "            logger.error(\"The fasta file (-fa) does not exist.\")\n",
    "            sys.exit(1)\n",
    "        if os.path.isdir(os.path.dirname(DatabaseName)):\n",
    "            logger.info(\"Database directory exists\")\n",
    "        else:\n",
    "            logger.info(\"Database directory does not exist, we create it\")\n",
    "            os.makedirs(os.path.dirname(DatabaseName))\n",
    "        # database building\n",
    "        logger.info(DatabaseName + \" database building\")\n",
    "        MakeblastdbProcess = BlastPlus.Makeblastdb(InputFasta,DatabaseName)\n",
    "        ExitCode = MakeblastdbProcess.launch()\n",
    "    else :\n",
    "        logger.error(\"The database is not formatted ! A fasta file (-fa) or a fastq file (-fq) is required !\")\n",
    "        sys.exit(1)\n",
    "if not os.path.isfile(DatabaseName+\".nhr\"):\n",
    "    logger.error(\"Problem in the database building\")\n",
    "    logger.info(DatabaseName+\".nhr does not exist\")\n",
    "    sys.exit(1)\n",
    "else:\n",
    "    logger.info(DatabaseName+\".nhr exists\")"
   ]
  },
  {
   "cell_type": "code",
   "execution_count": 7,
   "metadata": {
    "collapsed": false
   },
   "outputs": [
    {
     "name": "stderr",
     "output_type": "stream",
     "text": [
      "INFO:apytram:apytram will run with \"example_exec/db/examplefq\" as reads database and \"example/ref_gene.fasta\" as bait sequences\n"
     ]
    }
   ],
   "source": [
    "### If there is a query continue, else stop\n",
    "if not args.query:\n",
    "    logger.info(\"There is no query (-q), apytram have finished.\")\n",
    "    quit()\n",
    "elif not os.path.isfile(args.query):\n",
    "    logger.error(args.query+\" (-q) is not a file.\")\n",
    "    sys.exit(1)\n",
    "else:\n",
    "    queryFile = args.query\n",
    "    QueryDatabaseName = TmpDirName + \"/\" + os.path.basename(queryFile).split(\".\")[0]\n",
    "    BlastdbcmdProcess = BlastPlus.Makeblastdb(queryFile,QueryDatabaseName)\n",
    "    ExitCode = BlastdbcmdProcess.launch()\n",
    "    logger.info(\"apytram will run with \\\"%s\\\" as reads database and \\\"%s\\\" as bait sequences\" %(DatabaseName,queryFile))\n",
    "    "
   ]
  },
  {
   "cell_type": "code",
   "execution_count": 8,
   "metadata": {
    "collapsed": false,
    "scrolled": true
   },
   "outputs": [
    {
     "name": "stderr",
     "output_type": "stream",
     "text": [
      "INFO:apytram:Iterations begin\n",
      "INFO:apytram:Iteration 1/10\n",
      "INFO:apytram:Blast bait sequences on reads database\n",
      "INFO:apytram:Retrieve sequences\n",
      "INFO:apytram:Launch Trinity\n",
      "INFO:apytram:Compare Trinity results with query sequences\n"
     ]
    },
    {
     "name": "stdout",
     "output_type": "stream",
     "text": [
      "trinity --- 0.000681161880493 seconds ---\n",
      "exonerate --- 0.465357065201 seconds ---\n",
      "blast --- 0.0760338306427 seconds ---"
     ]
    },
    {
     "name": "stderr",
     "output_type": "stream",
     "text": [
      "INFO:apytram:Filter sequence with a identity percentage superior to 0\n",
      "INFO:apytram:Compare results with the previous iteration\n",
      "INFO:apytram:Strict Coverage: 94\tLarge Coverage: 97\n"
     ]
    },
    {
     "name": "stdout",
     "output_type": "stream",
     "text": [
      "\n",
      "mafft --- 0.0769250392914 seconds ---"
     ]
    },
    {
     "name": "stderr",
     "output_type": "stream",
     "text": [
      "INFO:apytram:Iteration 2/10\n",
      "INFO:apytram:Blast bait sequences on reads database\n",
      "INFO:apytram:Retrieve sequences\n",
      "INFO:apytram:Launch Trinity\n"
     ]
    },
    {
     "name": "stdout",
     "output_type": "stream",
     "text": [
      "\n",
      "iteration 1 --- 0.845499038696 seconds ---\n",
      "trinity --- 0.000727891921997 seconds ---"
     ]
    },
    {
     "name": "stderr",
     "output_type": "stream",
     "text": [
      "INFO:apytram:Compare Trinity results with query sequences\n"
     ]
    },
    {
     "name": "stdout",
     "output_type": "stream",
     "text": [
      "\n",
      "exonerate --- 0.79412317276 seconds ---\n",
      "blast --- 0.0782799720764 seconds ---"
     ]
    },
    {
     "name": "stderr",
     "output_type": "stream",
     "text": [
      "INFO:apytram:Filter sequence with a identity percentage superior to 0\n",
      "INFO:apytram:Compare results with the previous iteration\n",
      "INFO:apytram:Strict Coverage: 99\tLarge Coverage: 102\n"
     ]
    },
    {
     "name": "stdout",
     "output_type": "stream",
     "text": [
      "\n",
      "mafft --- 0.0534701347351 seconds ---"
     ]
    },
    {
     "name": "stderr",
     "output_type": "stream",
     "text": [
      "INFO:apytram:Iteration 3/10\n",
      "INFO:apytram:Blast bait sequences on reads database\n",
      "INFO:apytram:Retrieve sequences\n",
      "INFO:apytram:Launch Trinity\n"
     ]
    },
    {
     "name": "stdout",
     "output_type": "stream",
     "text": [
      "\n",
      "iteration 2 --- 1.16270399094 seconds ---\n",
      "trinity --- 0.000901937484741 seconds ---"
     ]
    },
    {
     "name": "stderr",
     "output_type": "stream",
     "text": [
      "INFO:apytram:Compare Trinity results with query sequences\n"
     ]
    },
    {
     "name": "stdout",
     "output_type": "stream",
     "text": [
      "\n",
      "exonerate --- 0.820907115936 seconds ---\n",
      "blast --- 0.0757131576538 seconds ---"
     ]
    },
    {
     "name": "stderr",
     "output_type": "stream",
     "text": [
      "INFO:apytram:Filter sequence with a identity percentage superior to 0\n",
      "INFO:apytram:Compare results with the previous iteration\n",
      "INFO:apytram:Strict Coverage: 99\tLarge Coverage: 102\n"
     ]
    },
    {
     "name": "stdout",
     "output_type": "stream",
     "text": [
      "\n",
      "mafft --- 0.0578181743622 seconds ---"
     ]
    },
    {
     "name": "stderr",
     "output_type": "stream",
     "text": [
      "INFO:apytram:End of Iterations\n",
      "INFO:apytram:Write outputfiles\n"
     ]
    },
    {
     "name": "stdout",
     "output_type": "stream",
     "text": [
      "\n",
      "iteration 3 --- 1.22465109825 seconds ---\n",
      "TRINITY_DN0_c0_g1_i1\n",
      "NAMES\n",
      "OK\n",
      "TRINITY_DN0_c0_g1_i1\n"
     ]
    }
   ],
   "source": [
    "### Make iterations\n",
    "# Initialisation\n",
    "i = 0\n",
    "Stop = False\n",
    "LastIterStat = [0, 0]\n",
    "BaitSequences = queryFile\n",
    "\n",
    "logger.info(\"Iterations begin\")\n",
    "while (i < MaxIteration) and (Stop == False):\n",
    "    i+=1\n",
    "    start_iter = time.time()\n",
    "    logger.info(\"Iteration %d/%d\" %(i,MaxIteration))\n",
    "    # Blast bait seqeunce on database of reads\n",
    "    logger.info(\"Blast bait sequences on reads database\")\n",
    "    ReadNamesFile = TmpDirName + \"/ReadNames.%d.txt\" % (i)\n",
    "    BlastnProcess = BlastPlus.Blast(\"blastn\", DatabaseName, BaitSequences)\n",
    "    BlastnProcess.Evalue = Evalue\n",
    "    BlastnProcess.Threads = Threads\n",
    "    BlastnProcess.OutFormat = \"6 sacc\"\n",
    "    # Write read names in ReadNamesFile\n",
    "    ExitCode = BlastnProcess.launch(ReadNamesFile)\n",
    "    BlastnProcess.OutFormat = \"6\"\n",
    "    ExitCode = BlastnProcess.launch(ReadNamesFile+\".completetable\")\n",
    "    # Get paired reads names\n",
    "    ExitCode = ApytramNeeds.add_paired_read_names(ReadNamesFile)\n",
    "    # Retrieve sequences\n",
    "    logger.info(\"Retrieve sequences\")\n",
    "    ReadFasta = TmpDirName + \"/Reads.%d.fasta\" % (i)\n",
    "    BlastdbcmdProcess = BlastPlus.Blastdbcmd(DatabaseName, ReadNamesFile, ReadFasta)\n",
    "    BlastdbcmdProcess.launch()\n",
    "    # Launch Trinity\n",
    "    start_trinity_time = time.time()\n",
    "    logger.info(\"Launch Trinity\")\n",
    "    TrinityFasta = TmpDirName + \"/Trinity_iter_%d\" % (i)\n",
    "    TrinityProcess = Trinity.Trinity(ReadFasta,TrinityFasta)\n",
    "    # Keep only contig with a length superior to MinLength\n",
    "    TrinityProcess.MinLength = MinLength\n",
    "    # Use the  --full_cleanup Trinity option to keep only the contig file\n",
    "    ExitCode = 0\n",
    "    #ExitCode = TrinityProcess.launch(\"full_cleanup\")\n",
    "    TrinityFasta = TrinityFasta + \".Trinity.fasta\"\n",
    "    print(\"trinity --- %s seconds ---\" % (time.time() - start_trinity_time))\n",
    "    if ExitCode != 0: # Trinity found nothing\n",
    "        logger.info(\"Trinity found nothing (ExitCode: %d)\" %exitCode)\n",
    "        Stop = True\n",
    "    else:\n",
    "        # Filter Trinity contigs to keep only homologous sequences of the reference genes\n",
    "        logger.info(\"Compare Trinity results with query sequences\")\n",
    "        \n",
    "        # Exonerate method\n",
    "        TrinityExonerate = TmpDirName + \"/Trinity_iter_%d.exonerate\" % (i)\n",
    "        start_exo_time = time.time()\n",
    "        ExonerateProcess = Aligner.Exonerate(queryFile,TrinityFasta)\n",
    "        # We want to keep only the best hit for each Trinity sequences\n",
    "        ExonerateProcess.Bestn = 1\n",
    "        ExonerateProcess.Model = \"cdna2genome\"\n",
    "        # We customize our output format\n",
    "        ExonerateProcess.Ryo = \"%ti\\t%qi\\t%ql\\t%tal\\t%tl\\t%tab\\t%tae\\t%s\\t%pi\\t%qab\\t%qae\\n\"\n",
    "        ExonerateResult = ExonerateProcess.get_output()\n",
    "        # We write the result in a file\n",
    "        ExonerateFile = open(TrinityExonerate,\"w\")\n",
    "        ExonerateFile.write(ExonerateResult)\n",
    "        ExonerateFile.close()\n",
    "        # Keep only sequence with a identity percentage > MinIdentitypercentage on the whole hit\n",
    "        FilteredSequenceNames, BestScoreNames, ExonerateResultsDict = ApytramNeeds.parse_exonerate_results(ExonerateResult, MinIdentityPercentage)\n",
    "        print(\"exonerate --- %s seconds ---\" % (time.time() - start_exo_time))\n",
    "        \n",
    "        # Blast method\n",
    "        start_bla_time = time.time()\n",
    "        TrinityBlast = TmpDirName + \"/Trinity_iter_%d.blast\" % (i)\n",
    "        BlastnProcess = BlastPlus.Blast(\"blastn\", QueryDatabaseName, TrinityFasta)\n",
    "        BlastnProcess.OutFormat = \"6\"\n",
    "        BlastnProcess.Evalue = 1e-8\n",
    "        BlastnProcess.perc_identity = 80\n",
    "        BlastnProcess.launch(TrinityBlast)\n",
    "        print(\"blast --- %s seconds ---\" % (time.time() - start_bla_time))\n",
    "        \n",
    "        # Filter hit\n",
    "        logger.info(\"Filter sequence with a identity percentage superior to %d\" %(MinIdentityPercentage)) \n",
    "        FileteredTrinityFasta = TmpDirName + \"/Trinity_iter_%d.filtered.fasta\" % (i)\n",
    "        ExitCode = ApytramNeeds.filter_fasta(TrinityFasta,FilteredSequenceNames,FileteredTrinityFasta)\n",
    "        \n",
    "        # Validated sequences become bait sequences\n",
    "        BaitSequences = FileteredTrinityFasta\n",
    "        \n",
    "        # Compare to the previous iteration\n",
    "        start_mafft_time = time.time()\n",
    "        logger.info(\"Compare results with the previous iteration\")\n",
    "        MafftProcess = Aligner.Mafft(queryFile)\n",
    "        MafftProcess.QuietOption = True\n",
    "        MafftProcess.AdjustdirectionOption = True\n",
    "        MafftProcess.AddOption = FileteredTrinityFasta\n",
    "        MafftResult = MafftProcess.get_output()\n",
    "        StrictCoverage, LargeCoverage = ApytramNeeds.calculate_coverage(MafftResult)\n",
    "        logger.info(\"Strict Coverage: %d\\tLarge Coverage: %d\" %(StrictCoverage, LargeCoverage))\n",
    "        print(\"mafft --- %s seconds ---\" % (time.time() - start_mafft_time))\n",
    "         \n",
    "        if LargeCoverage <= LastIterStat[1]:\n",
    "            Stop =True\n",
    "        LastIterStat = [StrictCoverage, LargeCoverage]\n",
    "        print(\"iteration %d --- %s seconds ---\" % (i,time.time() - start_iter))\n",
    "        \n",
    "    \n",
    "#### Write output\n",
    "logger.info(\"End of Iterations\")\n",
    "logger.info(\"Write outputfiles\")\n",
    "# Best iteration\n",
    "ExitCode = ApytramNeeds.write_apytram_output(FileteredTrinityFasta, ExonerateResultsDict,\n",
    "                                             OutDirName+\"/apytram.best.fasta\", \n",
    "                                             Header = ExonerateProcess.Ryo.replace('%',\"\").replace(\"\\n\",\"\").split(),\n",
    "                                             Names = BestScoreNames)\n",
    "# Last iteration\n",
    "ExitCode = ApytramNeeds.write_apytram_output(FileteredTrinityFasta,\n",
    "                                             ExonerateResultsDict,\n",
    "                                             OutDirName+\"/apytram.fasta\",\n",
    "                                             Header = ExonerateProcess.Ryo.replace('%',\"\").replace(\"\\n\",\"\").split(),)\n",
    "\n",
    "### Remove tempdir\n"
   ]
  },
  {
   "cell_type": "code",
   "execution_count": null,
   "metadata": {
    "collapsed": false
   },
   "outputs": [],
   "source": []
  },
  {
   "cell_type": "code",
   "execution_count": 9,
   "metadata": {
    "collapsed": true
   },
   "outputs": [],
   "source": [
    "from lib import ApytramNeeds"
   ]
  },
  {
   "cell_type": "code",
   "execution_count": 10,
   "metadata": {
    "collapsed": false
   },
   "outputs": [
    {
     "name": "stdout",
     "output_type": "stream",
     "text": [
      "--- 4.22582101822 seconds ---\n"
     ]
    }
   ],
   "source": [
    "print(\"--- %s seconds ---\" % (time.time() - start_time))"
   ]
  },
  {
   "cell_type": "code",
   "execution_count": 11,
   "metadata": {
    "collapsed": false
   },
   "outputs": [
    {
     "name": "stdout",
     "output_type": "stream",
     "text": [
      "          TRINITY_DN0_c0_g1_i1\n",
      "ti   ENSMUSP00000002708_G01455\n",
      "qi        TRINITY_DN0_c0_g1_i1\n",
      "ql                        1339\n",
      "tal                       1306\n",
      "tl                        1311\n",
      "tab                       1311\n",
      "tae                          5\n",
      "s                         5622\n",
      "pi                       92.64\n",
      "qab                       1315\n",
      "qae                          0\n",
      ">APYTRAM_1[ENSMUSP00000002708_G01455]\n",
      "GCTGCTGCTAGCGAGATGTCTTCTGGTGGTCCTCGCTTCCTCGCTGCTGGTGTGCCCCGG\n",
      "GCTGGCGTGCGGGCCCGGTAGGGGGTTTGGAAAGAGGCGGCACCCCAAAAAGCTGACCCC\n",
      "TTTAGCCTACAAGCAGTTTATTCCCAACGTAGCCGAGAAGACCCTAGGGGCCAGCGGCAG\n",
      "ATACGAAGGGAAGATCACAAGAAACTCCGAGAGATTTAAGGAACTCACCCCCAATTACAA\n",
      "CCCCGACATCATATTTAAGGATGAGGAAAACACGGGAGCAGACCGACTGATGACTCAGAG\n",
      "GTGCAAAGACAAGCTAAATGCCTTGGCCATCTCTGTGATGAACCAGTGGCCTGGAGTGAA\n",
      "GCTACGGGTGACTGAGGGCTGGGATGAAGATGGCCATCATTCCGAGGAGTCTCTACACTA\n",
      "CGAGGGCCGGGCAGTGGACATCACCACATCTGACAGGGACCGCAGCAAATATGGCATGCT\n",
      "GGCCCGCCTGGCTGTGGAGGCCGGCTTCGACTGGGTCTACTATGAATCCAAAGCACACAT\n",
      "CCACTGCTCTGTGAAAGCAGAGAACTCCGTGGCGGCCAAATCCGGGGGCTGCTTCCCGGG\n",
      "ATCCGCCACAGTGCACCTGGAGCAGGGTGGCACCAAGCTGGTGAAGGACCTGCGTCCAGG\n",
      "AGACCGCGTATTGGCGGCTGACGACCAGGGCCGGCTGCTGTACAGCGACTTCCTCACCTT\n",
      "CCTGGACCGCGACGAAGGCGCCAAGAAGGTCTTTTACGTGATCGAGACGCGGGAGCCGCG\n",
      "CGAACGCCTGCTGCTCACCGCCGCGCACCTGCTCTTCGTGGCGCCGCACAACGACACGGG\n",
      "AGCCGCGGGGCCCGCACCCGGACCGAGCGCGCTCTTCGCCAGTCGTGTGCGCCCCGGCCA\n",
      "GCGTGTGTACGTGGTGACCGAGCGTGGTGGGGACCGCCGGCTGCTGCCGGCCGCGGTGCA\n",
      "CAGCGTGACGCTGCGCGAGGAGGCCGCGGGCGCGTACGCGCCACTCACGGCGCACGGCAC\n",
      "CATCCTCATCAACCGTGTGCTGGCCTCGTGCTACGCAGTCATCGAGGAGCACAGCTGGGC\n",
      "ACACCGGGCCTTCGCACCCTTCCGCTTGGCGCACGCGCTCCTGGCCGCGCTGGCGCCCGC\n",
      "CAGCACGGACGCCGGGGGTGGGGGCAGCATCCCCGCACCCCAACCCTCAGCGGAGACAAG\n",
      "GGGCTCAGGGCCGGCCTCAGGCATCCACTGGTACTCGCAGCTGCTCTACCAAATTGGTAC\n",
      "CTGGCTGTTGGACAGCGAGACCTTGCATCCCTTGGGAATGGCGGTCAAGTCCAGCTGAAG\n",
      "TCAGAGGGGACTGGGCAGG\n",
      "\n"
     ]
    }
   ],
   "source": [
    "import pandas\n",
    "import re\n",
    "df = pandas.DataFrame(ExonerateResultsDict, index = ExonerateProcess.Ryo.replace(\"\\n\",\"\").replace('%','').split(\"\\t\"))\n",
    "print df\n",
    "File = open(FileteredTrinityFasta,\"r\")\n",
    "Fasta = File.read().strip().split(\"\\n\")\n",
    "File.close()\n",
    "name = \"\"\n",
    "sequence = \"\"\n",
    "string = \"\"\n",
    "i = 1\n",
    "for line in Fasta:\n",
    "    if re.match(\">\",line):\n",
    "        name = line.split()[0].replace(\">\",\"\")\n",
    "        string += \">APYTRAM_%d[%s]\\n\" %(i,df[name][\"ti\"])\n",
    "        i+=1\n",
    "    elif name != \"\":\n",
    "        string += line + \"\\n\"\n",
    "    else:\n",
    "        pass\n",
    "\n",
    "print string"
   ]
  },
  {
   "cell_type": "code",
   "execution_count": null,
   "metadata": {
    "collapsed": false
   },
   "outputs": [],
   "source": []
  },
  {
   "cell_type": "code",
   "execution_count": null,
   "metadata": {
    "collapsed": false
   },
   "outputs": [],
   "source": []
  }
 ],
 "metadata": {
  "kernelspec": {
   "display_name": "Python 2",
   "language": "python",
   "name": "python2"
  },
  "language_info": {
   "codemirror_mode": {
    "name": "ipython",
    "version": 2
   },
   "file_extension": ".py",
   "mimetype": "text/x-python",
   "name": "python",
   "nbconvert_exporter": "python",
   "pygments_lexer": "ipython2",
   "version": "2.7.6"
  }
 },
 "nbformat": 4,
 "nbformat_minor": 0
}
