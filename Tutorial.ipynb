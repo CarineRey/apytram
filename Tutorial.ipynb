{
 "cells": [
  {
   "cell_type": "markdown",
   "metadata": {},
   "source": [
    "# apytram Tutorial\n",
    "## Automated ( PYthon implemented ) Target Restricted Assembly Method"
   ]
  },
  {
   "cell_type": "markdown",
   "metadata": {},
   "source": [
    "## Preambule\n",
    "\n",
    "This software is inspired from aTRAM (Allen et al., 2015) but was implemented in python and internal strategies have been differently thougth. \n",
    "\n",
    "#### Reference\n",
    "Allen, JM, DI Huang, QC Cronk, KP Johnson. 2015. aTRAM automated target restricted assembly method a fast method for assembling loci across divergent taxa from next-generation sequencing data. BMC Bioinformatics 16:98 DOI 10.1186/s12859-015-0515-2"
   ]
  },
  {
   "cell_type": "markdown",
   "metadata": {},
   "source": [
    "## Dependencies\n",
    "### Software (Must be available in the $PATH)\n",
    "\n",
    "*    Trinity >=v2.1 [Samtools 0.19, Java 1.7]\n",
    "    \n",
    "*    MAfft >=v7\n",
    "\n",
    "*    exonerate\n",
    "\n",
    "*    Blastplus\n",
    "\n",
    "To add a sofware in the $PATH:"
   ]
  },
  {
   "cell_type": "code",
   "execution_count": null,
   "metadata": {
    "collapsed": false
   },
   "outputs": [],
   "source": [
    "PATH=/path/to/the/software:$PATH"
   ]
  },
  {
   "cell_type": "markdown",
   "metadata": {},
   "source": [
    "### Python library\n",
    "*    pandas\n",
    "*    Matplolib >= 1.13\n"
   ]
  },
  {
   "cell_type": "markdown",
   "metadata": {
    "collapsed": true
   },
   "source": [
    "## Why use apytram ?"
   ]
  },
  {
   "cell_type": "markdown",
   "metadata": {},
   "source": [
    "## How to get apytram ?\n",
    "### First time\n",
    "\n",
    "This command will create a directory named \"apytram\"."
   ]
  },
  {
   "cell_type": "code",
   "execution_count": null,
   "metadata": {
    "collapsed": true
   },
   "outputs": [],
   "source": [
    "git clone https://github.com/CarineRey/apytram.git"
   ]
  },
  {
   "cell_type": "markdown",
   "metadata": {},
   "source": [
    "### Next time (to update)\n",
    "In the \"apytram\" directory:"
   ]
  },
  {
   "cell_type": "code",
   "execution_count": null,
   "metadata": {
    "collapsed": true
   },
   "outputs": [],
   "source": [
    "git pull https://github.com/CarineRey/apytram.git"
   ]
  },
  {
   "cell_type": "markdown",
   "metadata": {},
   "source": [
    "## Example"
   ]
  },
  {
   "cell_type": "code",
   "execution_count": null,
   "metadata": {
    "collapsed": false
   },
   "outputs": [],
   "source": [
    "#cd apytram\n",
    "rm Out_test/apytram.log\n",
    "./apytram.py -t paired -d example_exec/db/examplefq \\\n",
    "             -out example_exec/Out/apytram -fq example/example_db.fastq \\\n",
    "             -q example/ref_gene.fasta \\\n",
    "             --keep_iterations \\\n",
    "             --threads 1 \\\n",
    "             --plot \\\n",
    "             -i 5 \\\n",
    "             -log Out_test/apytram.log\n",
    "cat Out_test/apytram.log"
   ]
  },
  {
   "cell_type": "markdown",
   "metadata": {},
   "source": [
    "## How to get help ?"
   ]
  },
  {
   "cell_type": "code",
   "execution_count": 1,
   "metadata": {
    "collapsed": false
   },
   "outputs": [
    {
     "name": "stdout",
     "output_type": "stream",
     "text": [
      "usage: apytram.py [-h] -d [DATABASE] -t {single,paired} [--version]\r\n",
      "                  [-log [LOG]] [--threads THREADS] [-fa FASTA] [-fq FASTQ]\r\n",
      "                  [-out OUTPUT_PREFFIX] [-tmp TMP] [--keep_iterations]\r\n",
      "                  [-q QUERY] [-i ITERATION_MAX] [-e EVALUE]\r\n",
      "                  [--required_coverage REQUIRED_COVERAGE] [-id MIN_ID]\r\n",
      "                  [-l MIN_LEN] [--stats] [--plot]\r\n",
      "\r\n",
      "Run apytram.py on a fastq file to retrieve homologous sequences of bait\r\n",
      "sequences.\r\n",
      "\r\n",
      "optional arguments:\r\n",
      "  -h, --help            show this help message and exit\r\n",
      "  --version             show program's version number and exit\r\n",
      "  -log [LOG]            a log file to report avancement (default: apytram.log)\r\n",
      "  --threads THREADS     Available threads. (Default 1)\r\n",
      "  -fa FASTA, --fasta FASTA\r\n",
      "                        Fasta formatted RNA-seq data to build the database of\r\n",
      "                        reads\r\n",
      "  -fq FASTQ, --fastq FASTQ\r\n",
      "                        Fastq formatted RNA-seq data to build the database of\r\n",
      "                        reads\r\n",
      "  -out OUTPUT_PREFFIX, --output_preffix OUTPUT_PREFFIX\r\n",
      "                        Output preffix (Default ./apytram)\r\n",
      "  -tmp TMP              Directory to stock all intermediary files for the\r\n",
      "                        apytram run. (default: a directory in /tmp which will\r\n",
      "                        be removed at the end)\r\n",
      "  --keep_iterations     A fasta file will be created at each iteration.\r\n",
      "  -q QUERY, --query QUERY\r\n",
      "                        Fasta file (nt) with bait sequence for the apytram\r\n",
      "                        run.\r\n",
      "  -i ITERATION_MAX, --iteration_max ITERATION_MAX\r\n",
      "                        Maximum number of iteration. (Default 5)\r\n",
      "  -e EVALUE, --evalue EVALUE\r\n",
      "                        Evalue. (Default 1e-3)\r\n",
      "  --required_coverage REQUIRED_COVERAGE\r\n",
      "                        Required coverage of a bait sequence to stop iteration\r\n",
      "                        (Default: No threshold)\r\n",
      "  -id MIN_ID, --min_id MIN_ID\r\n",
      "                        Minimum identity percentage with a query to keep a\r\n",
      "                        sequence (Default 50)\r\n",
      "  -l MIN_LEN, --min_len MIN_LEN\r\n",
      "                        Minimum length to keep a sequence (Default 200)\r\n",
      "\r\n",
      "required arguments:\r\n",
      "  -d [DATABASE], --database [DATABASE]\r\n",
      "                        Database preffix name\r\n",
      "  -t {single,paired}, --database_type {single,paired}\r\n",
      "                        single or paired end database\r\n",
      "\r\n",
      "Arguments for statistics and plots:\r\n",
      "  --stats               Create files with statistics on each iteration\r\n",
      "  --plot                Create file with plot on statistics on each iteration\r\n"
     ]
    }
   ],
   "source": [
    "./apytram.py -h"
   ]
  },
  {
   "cell_type": "markdown",
   "metadata": {},
   "source": [
    "## Basic use"
   ]
  },
  {
   "cell_type": "code",
   "execution_count": null,
   "metadata": {
    "collapsed": false
   },
   "outputs": [],
   "source": [
    "./apytram.py -d $db_name -t $db_type -fq $fastq_name -q $reference_gene_name"
   ]
  },
  {
   "cell_type": "markdown",
   "metadata": {},
   "source": [
    "## Advanced use"
   ]
  }
 ],
 "metadata": {
  "kernelspec": {
   "display_name": "Bash",
   "language": "bash",
   "name": "bash"
  },
  "language_info": {
   "codemirror_mode": "shell",
   "file_extension": ".sh",
   "mimetype": "text/x-sh",
   "name": "bash"
  }
 },
 "nbformat": 4,
 "nbformat_minor": 0
}
