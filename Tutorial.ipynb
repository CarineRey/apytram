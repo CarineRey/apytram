{
 "cells": [
  {
   "cell_type": "markdown",
   "metadata": {},
   "source": [
    "# apytram Tutorial\n",
    "## Automated ( PYthon implemented ) Target Restricted Assembly Method"
   ]
  },
  {
   "cell_type": "markdown",
   "metadata": {},
   "source": [
    "## Preambule\n",
    "\n",
    "This software is inspired from aTRAM (Allen et al., 2015) but was implemented in python and internal strategies have been differently thougth. \n",
    "\n",
    "#### Reference\n",
    "Allen, JM, DI Huang, QC Cronk, KP Johnson. 2015. aTRAM automated target restricted assembly method a fast method for assembling loci across divergent taxa from next-generation sequencing data. BMC Bioinformatics 16:98 DOI 10.1186/s12859-015-0515-2"
   ]
  },
  {
   "cell_type": "markdown",
   "metadata": {},
   "source": [
    "## Dependencies\n",
    "### Software (Must be available in the $PATH)\n",
    "\n",
    "*    Trinity >=v2.1 [Samtools 0.19, Java 1.7]\n",
    "    \n",
    "*    MAfft >=v7\n",
    "\n",
    "*    exonerate\n",
    "\n",
    "*    Blastplus\n",
    "To add a sofware in the $PATH:"
   ]
  },
  {
   "cell_type": "code",
   "execution_count": null,
   "metadata": {
    "collapsed": false
   },
   "outputs": [],
   "source": [
    "PATH=/path/to/the/software:$PATH"
   ]
  },
  {
   "cell_type": "markdown",
   "metadata": {},
   "source": [
    "### Python library\n",
    "*    pandas\n",
    "*    Matplolib\n"
   ]
  },
  {
   "cell_type": "markdown",
   "metadata": {
    "collapsed": true
   },
   "source": [
    "## Why use apytram ?"
   ]
  },
  {
   "cell_type": "markdown",
   "metadata": {},
   "source": [
    "## Example"
   ]
  },
  {
   "cell_type": "code",
   "execution_count": null,
   "metadata": {
    "collapsed": false
   },
   "outputs": [],
   "source": [
    "rm Out_test/apytram.log\n",
    "./apytram.py -t paired -d example_exec/db/examplefq \\\n",
    "             -out example_exec/Out/apytram -fq example/example_db.fastq \\\n",
    "             -q example/ref_gene.fasta \\\n",
    "             --keep_iterations \\\n",
    "             --threads 1 \\\n",
    "             --plot \\\n",
    "             -i 5 \\\n",
    "             -log example_exec/Out/apytram.log\n",
    "cat Out_test/apytram.log"
   ]
  },
  {
   "cell_type": "markdown",
   "metadata": {},
   "source": [
    "## How to get help ?"
   ]
  },
  {
   "cell_type": "code",
   "execution_count": null,
   "metadata": {
    "collapsed": true
   },
   "outputs": [],
   "source": [
    "./apytram.py -h"
   ]
  },
  {
   "cell_type": "markdown",
   "metadata": {},
   "source": [
    "## Basic use"
   ]
  },
  {
   "cell_type": "code",
   "execution_count": null,
   "metadata": {
    "collapsed": false
   },
   "outputs": [],
   "source": [
    "./apytram.py -d $db_name -t $db_type -fq $fastq_name -q $reference_gene_name"
   ]
  },
  {
   "cell_type": "markdown",
   "metadata": {},
   "source": [
    "## Advanced use"
   ]
  }
 ],
 "metadata": {
  "kernelspec": {
   "display_name": "Bash",
   "language": "bash",
   "name": "bash"
  },
  "language_info": {
   "codemirror_mode": "shell",
   "file_extension": ".sh",
   "mimetype": "text/x-sh",
   "name": "bash"
  }
 },
 "nbformat": 4,
 "nbformat_minor": 0
}
