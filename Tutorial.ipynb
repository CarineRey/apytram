{
 "cells": [
  {
   "cell_type": "markdown",
   "metadata": {},
   "source": [
    "# apytram Tutorial\n",
    "## Automated ( PYthon implemented ) Target Restricted Assembly Method"
   ]
  },
  {
   "cell_type": "markdown",
   "metadata": {},
   "source": [
    "## Preambule\n",
    "\n",
    "This software is inspired from aTRAM (Allen et al., 2015) but was implemented in python and internal strategies have been differently thougth. \n",
    "\n",
    "#### Reference\n",
    "Allen, JM, DI Huang, QC Cronk, KP Johnson. 2015. aTRAM automated target restricted assembly method a fast method for assembling loci across divergent taxa from next-generation sequencing data. BMC Bioinformatics 16:98 DOI 10.1186/s12859-015-0515-2"
   ]
  },
  {
   "cell_type": "markdown",
   "metadata": {},
   "source": [
    "## Dependencies\n",
    "### Software (Must be available in the \\$PATH)\n",
    "\n",
    "*    Trinity >=v2.1 [Samtools 0.19, Java 1.7]\n",
    "    \n",
    "*    Mafft >=v7\n",
    "\n",
    "*    exonerate\n",
    "\n",
    "*    Blastplus\n",
    "\n",
    "To add a sofware in the \\$PATH:\n",
    "```sh\n",
    "PATH=/path/to/the/software:$PATH\n",
    "```\n",
    "\n",
    "### Python library\n",
    "*    pandas\n",
    "*    Matplolib >= 1.13\n"
   ]
  },
  {
   "cell_type": "markdown",
   "metadata": {
    "collapsed": true
   },
   "source": [
    "## Why use apytram ?"
   ]
  },
  {
   "cell_type": "markdown",
   "metadata": {},
   "source": [
    "## How to get apytram ?\n",
    "### First time\n",
    "\n",
    "This command will create a directory named \"apytram\"."
   ]
  },
  {
   "cell_type": "code",
   "execution_count": null,
   "metadata": {
    "collapsed": true
   },
   "outputs": [],
   "source": [
    "git clone https://github.com/CarineRey/apytram.git"
   ]
  },
  {
   "cell_type": "markdown",
   "metadata": {},
   "source": [
    "### Next time (to update)\n",
    "In the \"apytram\" directory:"
   ]
  },
  {
   "cell_type": "code",
   "execution_count": null,
   "metadata": {
    "collapsed": true
   },
   "outputs": [],
   "source": [
    "git pull https://github.com/CarineRey/apytram.git"
   ]
  },
  {
   "cell_type": "markdown",
   "metadata": {},
   "source": [
    "## Examples\n",
    "\n",
    "### Nucleotide query"
   ]
  },
  {
   "cell_type": "code",
   "execution_count": null,
   "metadata": {
    "collapsed": false
   },
   "outputs": [],
   "source": [
    "#cd apytram\n",
    "rm example_exec/nucl/Out/apytram.log\n",
    "./apytram.py -d example_exec/db/examplefq \\\n",
    "             -dt paired \\\n",
    "             -fq example/example_db.fastq \\\n",
    "             -q example/ref_gene.fasta \\\n",
    "             --keep_iterations \\\n",
    "             --threads 1 \\\n",
    "             --plot \\\n",
    "             --plot_ali \\\n",
    "             -i 5 \\\n",
    "             -out example_exec/nucl/Out/apytram \\\n",
    "             -tmp example_exec/nucl/Tmp \\\n",
    "             -log example_exec/nucl/Out/apytram.log\n",
    "cat example_exec/nucl/Out/apytram.log"
   ]
  },
  {
   "cell_type": "markdown",
   "metadata": {},
   "source": [
    "### Protein query (In dev)"
   ]
  },
  {
   "cell_type": "code",
   "execution_count": null,
   "metadata": {
    "collapsed": false
   },
   "outputs": [],
   "source": [
    "rm example_exec/pep/Out/apytram.log\n",
    "./apytram.py -d example_exec/db/examplefq \\\n",
    "             -dt paired \\\n",
    "             -fq example/example_db.fastq \\\n",
    "             -q example/ref_gene.fasta \\\n",
    "             -pep example/ref_prot.fasta  \\\n",
    "             --keep_iterations \\\n",
    "             --finish_all_iter\\\n",
    "             --threads 1 \\\n",
    "             --plot \\\n",
    "             -i 3 \\\n",
    "             -out example_exec/pep/Out/apytram \\\n",
    "             -tmp example_exec/pep/Tmp \\\n",
    "             -log example_exec/pep/Out/apytram.log\n",
    "cat example_exec/pep/Out/apytram.log"
   ]
  },
  {
   "cell_type": "markdown",
   "metadata": {},
   "source": [
    "## How to get help ?"
   ]
  },
  {
   "cell_type": "code",
   "execution_count": 1,
   "metadata": {
    "collapsed": false
   },
   "outputs": [
    {
     "name": "stdout",
     "output_type": "stream",
     "text": [
      "usage: apytram.py [-h] [--version] -d [DATABASE] -dt {single,paired}\r\n",
      "                  [-fa FASTA] [-fq FASTQ] [-q QUERY] [-pep QUERY_PEP]\r\n",
      "                  [-out OUTPUT_PREFFIX] [-tmp TMP] [--keep_iterations]\r\n",
      "                  [--stats] [--plot] [--plot_ali] [-log LOG]\r\n",
      "                  [-i ITERATION_MAX] [--finish_all_iter] [-e EVALUE]\r\n",
      "                  [--required_coverage REQUIRED_COVERAGE] [-id MIN_ID]\r\n",
      "                  [-mal MIN_ALI_LEN] [-len MIN_LEN] [--threads THREADS]\r\n",
      "\r\n",
      "Run apytram.py on a fastq file to retrieve homologous sequences of bait\r\n",
      "sequences.\r\n",
      "\r\n",
      "optional arguments:\r\n",
      "  -h, --help            show this help message and exit\r\n",
      "  --version             show program's version number and exit\r\n",
      "\r\n",
      "Required arguments:\r\n",
      "  -d [DATABASE], --database [DATABASE]\r\n",
      "                        Database preffix name. If a database with the same\r\n",
      "                        name already exist, the existing database will be kept\r\n",
      "                        and the database will NOT be rebuilt.\r\n",
      "  -dt {single,paired}, --database_type {single,paired}\r\n",
      "                        single or paired end RNA-seq data\r\n",
      "\r\n",
      "Input and Output Files:\r\n",
      "  -fa FASTA, --fasta FASTA\r\n",
      "                        Fasta formatted RNA-seq data to build the database of\r\n",
      "                        reads\r\n",
      "  -fq FASTQ, --fastq FASTQ\r\n",
      "                        Fastq formatted RNA-seq data to build the database of\r\n",
      "                        reads. (The fastq will be first convert in fasta file\r\n",
      "  -q QUERY, --query QUERY\r\n",
      "                        Fasta file (nucl) with bait sequence for the apytram\r\n",
      "                        run. If no query is submitted, the database will be\r\n",
      "                        only build.\r\n",
      "  -pep QUERY_PEP, --query_pep QUERY_PEP\r\n",
      "                        Fasta file containing the query in the peptide format.\r\n",
      "                        It will be used at the first iteration as bait\r\n",
      "                        sequences to fish reads. It must be accompany of the\r\n",
      "                        query in nucleotide format (-q option)\r\n",
      "  -out OUTPUT_PREFFIX, --output_preffix OUTPUT_PREFFIX\r\n",
      "                        Output preffix (Default ./apytram)\r\n",
      "  -tmp TMP              Directory to stock all intermediary files for the\r\n",
      "                        apytram run. (default: a directory in /tmp which will\r\n",
      "                        be removed at the end)\r\n",
      "  --keep_iterations     A fasta file will be created at each iteration.\r\n",
      "  --stats               Create files with statistics on each iteration\r\n",
      "  --plot                Create file with plot on statistics on each iteration\r\n",
      "  --plot_ali            Create file with a plot representing the alignement of\r\n",
      "                        all last iteration sequences on the query. Take some\r\n",
      "                        seconds. (default: False)\r\n",
      "  -log LOG              a log file to report avancement (default: apytram.log)\r\n",
      "  --finish_all_iter     apytram will finish all iteration (-i) even if there\r\n",
      "                        is no improvment) (default: False)\r\n",
      "\r\n",
      "Arguments for search thresholds:\r\n",
      "  -i ITERATION_MAX, --iteration_max ITERATION_MAX\r\n",
      "                        Maximum number of iteration. (Default 5)\r\n",
      "  -e EVALUE, --evalue EVALUE\r\n",
      "                        Evalue threshold of the blastn of the bait queries on\r\n",
      "                        the database of reads . (Default 1e-3)\r\n",
      "  --required_coverage REQUIRED_COVERAGE\r\n",
      "                        Required coverage of a bait sequence to stop iteration\r\n",
      "                        (Default: No threshold)\r\n",
      "  -id MIN_ID, --min_id MIN_ID\r\n",
      "                        Minimum identity percentage of a sequence with a query\r\n",
      "                        on the length of their alignment so that the sequence\r\n",
      "                        is kept at the end of a iteration (Default 20)\r\n",
      "  -mal MIN_ALI_LEN, --min_ali_len MIN_ALI_LEN\r\n",
      "                        Minimum alignment length of a sequence on a query to\r\n",
      "                        be kept at the end of a iteration (Default 180)\r\n",
      "  -len MIN_LEN, --min_len MIN_LEN\r\n",
      "                        Minimum length to keep a sequence at the end of a\r\n",
      "                        iteration (Default 200)\r\n",
      "\r\n",
      "Miscellaneous options:\r\n",
      "  --threads THREADS     Number of available threads. (Default 1)\r\n"
     ]
    }
   ],
   "source": [
    "./apytram.py -h"
   ]
  },
  {
   "cell_type": "markdown",
   "metadata": {},
   "source": [
    "## Basic use"
   ]
  },
  {
   "cell_type": "code",
   "execution_count": null,
   "metadata": {
    "collapsed": false
   },
   "outputs": [],
   "source": [
    "./apytram.py -d $db_name -t $db_type -fq $fastq_name -q $reference_gene_name"
   ]
  },
  {
   "cell_type": "markdown",
   "metadata": {},
   "source": [
    "## Advanced use"
   ]
  }
 ],
 "metadata": {
  "kernelspec": {
   "display_name": "Bash",
   "language": "bash",
   "name": "bash"
  },
  "language_info": {
   "codemirror_mode": "shell",
   "file_extension": ".sh",
   "mimetype": "text/x-sh",
   "name": "bash"
  }
 },
 "nbformat": 4,
 "nbformat_minor": 0
}
